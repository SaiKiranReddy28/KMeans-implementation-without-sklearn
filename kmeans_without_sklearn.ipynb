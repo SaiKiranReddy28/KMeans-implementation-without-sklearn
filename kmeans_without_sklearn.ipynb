{
  "nbformat": 4,
  "nbformat_minor": 0,
  "metadata": {
    "colab": {
      "provenance": []
    },
    "kernelspec": {
      "name": "python3",
      "display_name": "Python 3"
    },
    "language_info": {
      "name": "python"
    }
  },
  "cells": [
    {
      "cell_type": "code",
      "execution_count": 1,
      "metadata": {
        "id": "Fb9Q1qa5XhZ7"
      },
      "outputs": [],
      "source": [
        "from sklearn.cluster import KMeans\n",
        "import numpy as np\n",
        "import pandas as pd\n",
        "import matplotlib.pyplot as plt\n",
        "import math"
      ]
    },
    {
      "cell_type": "code",
      "source": [
        "from sklearn.datasets import make_blobs\n",
        "number=1000\n",
        "n_clusters=5\n",
        "X,y,op=make_blobs(n_samples=number,centers=n_clusters,n_features=2,random_state=42,return_centers=True)\n"
      ],
      "metadata": {
        "id": "qtG_DRqcXkCU"
      },
      "execution_count": 17,
      "outputs": []
    },
    {
      "cell_type": "code",
      "source": [
        "op"
      ],
      "metadata": {
        "colab": {
          "base_uri": "https://localhost:8080/"
        },
        "id": "w5P9WTCgXln0",
        "outputId": "22db3d38-573d-41bb-ed62-7b70d3e40398"
      },
      "execution_count": 19,
      "outputs": [
        {
          "output_type": "execute_result",
          "data": {
            "text/plain": [
              "array([[-2.50919762,  9.01428613],\n",
              "       [ 4.63987884,  1.97316968],\n",
              "       [-6.87962719, -6.88010959],\n",
              "       [-8.83832776,  7.32352292],\n",
              "       [ 2.02230023,  4.16145156]])"
            ]
          },
          "metadata": {},
          "execution_count": 19
        }
      ]
    },
    {
      "cell_type": "code",
      "source": [
        "plt.scatter(X[:,0],X[:,1],alpha=0.8)\n",
        "plt.show()"
      ],
      "metadata": {
        "colab": {
          "base_uri": "https://localhost:8080/",
          "height": 265
        },
        "id": "C7jdjtHKXnrE",
        "outputId": "dc2eb30a-5576-41e6-9535-e0bdca0a8a87"
      },
      "execution_count": 18,
      "outputs": [
        {
          "output_type": "display_data",
          "data": {
            "text/plain": [
              "<Figure size 432x288 with 1 Axes>"
            ],
            "image/png": "[encoded data removed]"
          },
          "metadata": {
            "needs_background": "light"
          }
        }
      ]
    },
    {
      "cell_type": "code",
      "source": [
        "def calculateDistance(x1,y1,x2,y2):\n",
        "     dist = math.sqrt((x2 - x1)**2 + (y2 - y1)**2)\n",
        "     return dist\n"
      ],
      "metadata": {
        "id": "JpQefWpyXpOr"
      },
      "execution_count": 27,
      "outputs": []
    },
    {
      "cell_type": "code",
      "source": [
        "#centroids by randomly selecting data points from data itself\n",
        "centroids=np.zeros([n_clusters,2]) #[[,],[,]......,[,]]\n",
        "for j in range(n_clusters):\n",
        "    val=np.random.choice(range(number))  #choosing a random number\n",
        "    centroids[j][0]=X[val][0]\n",
        "    centroids[j][1]=X[val][1]\n",
        "flag=True        #indicator if centroids are not changing\n",
        "\n",
        "epochs=200      #define the number of times to run the algorithm\n",
        "\n",
        "for i in range(epochs):\n",
        "    if(flag==False):  \n",
        "        print(\"Stopped at epoch:\",i)   \n",
        "        break                       #stop if there is no change in cluster\n",
        "    dict={}\n",
        "    for j in range(n_clusters):     # n no of arrays to store cluster points\n",
        "        dict[j]=[]\n",
        "    #assigning each element into a cluster\n",
        "    for a in X:                 \n",
        "        distances=[]\n",
        "        for q in range(n_clusters):     \n",
        "            distances.append(calculateDistance(centroids[q][0],centroids[q][1],a[0],a[1]))\n",
        "        \n",
        "        index=np.argmin(distances,axis=0)  #take min index i.e nearest to which cluster\n",
        "        dict[index].append([a[0],a[1]])    #assign datapoint to array \n",
        "\n",
        "    #calculating mean of each cluster\n",
        "    new_centroids=np.zeros([n_clusters,2])  #initialize new_centroids points to calculate mean\n",
        "    \n",
        "    for j in range(n_clusters):\n",
        "        val1=0\n",
        "        val2=0\n",
        "        count=1   # assign value to 1 instead of 0 because it may lead to zero division error\n",
        "        for p in range(len(dict[j])):\n",
        "            val1+=dict[j][p][0]\n",
        "            val2+=dict[j][p][1]\n",
        "            count+=1\n",
        "        new_centroids[j][0]=val1/count\n",
        "        new_centroids[j][1]=val2/count\n",
        "\n",
        "    # check if centroids are changed:\n",
        "    check_array=np.zeros([n_clusters]) \n",
        "    for j in range(n_clusters):   \n",
        "    \n",
        "        if(centroids[j][0]==new_centroids[j][0] and centroids[j][1]==new_centroids[j][1]):\n",
        "            check_array[j]=1\n",
        "    #val1=check_array.count[1]\n",
        "    if(np.count_nonzero(check_array)==len(check_array)):  #if all values are 1 then there is no change between old and new clusters\n",
        "        flag=False\n",
        "    else:                                  #change old cluster points with new_cluster points\n",
        "        for j in range(n_clusters):\n",
        "            centroids[j][0]=new_centroids[j][0]\n",
        "            centroids[j][1]=new_centroids[j][1]\n",
        "\n",
        "print(new_centroids)\n",
        "     \n",
        "    "
      ],
      "metadata": {
        "colab": {
          "base_uri": "https://localhost:8080/"
        },
        "id": "M3-LqYAiXssj",
        "outputId": "0b6eac78-bf98-40ee-ac5c-c89fd5cfa1ea"
      },
      "execution_count": 40,
      "outputs": [
        {
          "output_type": "stream",
          "name": "stdout",
          "text": [
            "Stopped at epoch: 11\n",
            "[[-8.7643767   7.3676023 ]\n",
            " [ 4.63595286  1.8856598 ]\n",
            " [-6.6530417  -6.77750702]\n",
            " [-2.49020059  8.99466436]\n",
            " [ 2.00615223  4.25045429]]\n"
          ]
        }
      ]
    },
    {
      "cell_type": "code",
      "source": [
        "for k,v in dict.items():\n",
        "\n",
        "    v=np.array(v)\n",
        "    plt.scatter(v[:,0],v[:,1])\n",
        "    plt.scatter(centroids[k][0],centroids[k][1],c='black', s=100, alpha=0.5)\n",
        "plt.show()"
      ],
      "metadata": {
        "colab": {
          "base_uri": "https://localhost:8080/",
          "height": 265
        },
        "id": "3AUp8LN-Xunj",
        "outputId": "a9b6afba-6f4a-4e3b-fec8-61e6ff2ca345"
      },
      "execution_count": 38,
      "outputs": [
        {
          "output_type": "display_data",
          "data": {
            "text/plain": [
              "<Figure size 432x288 with 1 Axes>"
            ],
            "image/png": "[encoded data removed]"
          },
          "metadata": {
            "needs_background": "light"
          }
        }
      ]
    },
    {
      "cell_type": "code",
      "source": [
        "#implementation using sklearn\n",
        "kmeans=KMeans(n_clusters=n_clusters)\n",
        "kmeans.fit(X)\n",
        "print(kmeans.inertia_)\n",
        "kmeans.cluster_centers_\n"
      ],
      "metadata": {
        "colab": {
          "base_uri": "https://localhost:8080/"
        },
        "id": "xUORWJvNfeQd",
        "outputId": "bc3b89cb-af0d-4d12-b5e2-4b573eb1889b"
      },
      "execution_count": 41,
      "outputs": [
        {
          "output_type": "stream",
          "name": "stdout",
          "text": [
            "1873.253011362829\n"
          ]
        },
        {
          "output_type": "execute_result",
          "data": {
            "text/plain": [
              "array([[ 4.65960568,  1.89528052],\n",
              "       [-8.80798056,  7.40425704],\n",
              "       [-6.68630691, -6.81139455],\n",
              "       [-2.50265159,  9.03963769],\n",
              "       [ 2.01603476,  4.27139248]])"
            ]
          },
          "metadata": {},
          "execution_count": 41
        }
      ]
    },
    {
      "cell_type": "code",
      "source": [],
      "metadata": {
        "id": "Wkhg7Insfy_B"
      },
      "execution_count": null,
      "outputs": []
    },
    {
      "cell_type": "markdown",
      "source": [
        "debugged part of implementation"
      ],
      "metadata": {
        "id": "630_3qbAeh0_"
      }
    },
    {
      "cell_type": "code",
      "source": [
        "#centroids by randomly selecting data points from data itself\n",
        "centroids=np.zeros([n_clusters,2]) #[[,],[,]......,[,]]\n",
        "for j in range(n_clusters):\n",
        "    val=np.random.choice(range(number))  #choosing a random number\n",
        "    centroids[j][0]=X[val][0]\n",
        "    centroids[j][1]=X[val][1]\n",
        "flag=True        #indicator if centroids are not changing\n",
        "#print(centroids) \n",
        "epochs=200      #define the number of times to run the algorithm\n",
        "\n",
        "for i in range(epochs):\n",
        "    if(flag==False):  \n",
        "        print(\"Stopped at epoch:\",i)   \n",
        "        break                       #stop if there is no change in cluster\n",
        "    dict={}\n",
        "    for j in range(n_clusters):     # n no of arrays to store cluster points\n",
        "        dict[j]=[]\n",
        "    #assigning each element into a cluster\n",
        "    for a in X:                 \n",
        "        distances=[]\n",
        "        for q in range(n_clusters):     \n",
        "            distances.append(calculateDistance(centroids[q][0],centroids[q][1],a[0],a[1]))\n",
        "        \n",
        "        index=np.argmin(distances,axis=0)  #take min index i.e nearest to which cluster\n",
        "        dict[index].append([a[0],a[1]])    #assign datapoint to array \n",
        "\n",
        "    #calculating mean of each cluster\n",
        "    new_centroids=np.zeros([n_clusters,2])  #initialize new_centroids points to calculate mean\n",
        "    \"\"\"for k in dict.keys():\n",
        "        print(dict[k])\"\"\"\n",
        "    \n",
        "    for j in range(n_clusters):\n",
        "        val1=0\n",
        "        val2=0\n",
        "        count=1   # assign value to 1 instead of 0 because it may lead to zero division error\n",
        "        for p in range(len(dict[j])):\n",
        "            val1+=dict[j][p][0]\n",
        "            val2+=dict[j][p][1]\n",
        "            count+=1\n",
        "        new_centroids[j][0]=val1/count\n",
        "        new_centroids[j][1]=val2/count\n",
        "\n",
        "    \"\"\"print(new_centroids)\n",
        "    print(centroids)\"\"\"\n",
        "    # check if centroids are changed:\n",
        "    check_array=np.zeros([n_clusters]) \n",
        "    for j in range(n_clusters):   \n",
        "    \n",
        "        if(centroids[j][0]==new_centroids[j][0] and centroids[j][1]==new_centroids[j][1]):\n",
        "            check_array[j]=1\n",
        "    #val1=check_array.count[1]\n",
        "    if(np.count_nonzero(check_array)==len(check_array)):  #if all values are 1 then there is no change between old and new clusters\n",
        "        flag=False\n",
        "    else:                                  #change old cluster points with new_cluster points\n",
        "        for j in range(n_clusters):\n",
        "            centroids[j][0]=new_centroids[j][0]\n",
        "            centroids[j][1]=new_centroids[j][1]\n",
        "print(new_centroids)\n",
        "     \n",
        "    "
      ],
      "metadata": {
        "id": "7BhTN2lmehCs"
      },
      "execution_count": null,
      "outputs": []
    }
  ]
}